{
 "cells": [
  {
   "cell_type": "markdown",
   "source": [
    "# Лабораторная работа 2\n",
    "#### Цель работы: познакомиться с методом кластеризации K-mean с помощью пакета sklearn."
   ],
   "metadata": {
    "collapsed": false
   }
  },
  {
   "cell_type": "code",
   "execution_count": 1,
   "metadata": {
    "collapsed": true
   },
   "outputs": [
    {
     "data": {
      "text/plain": "   mileage        make   model      fuel    gear offerType  price     hp  year\n0   235000         BMW     316    Diesel  Manual      Used   6800  116.0  2011\n1    92800  Volkswagen    Golf  Gasoline  Manual      Used   6877  122.0  2011\n2   149300        SEAT    Exeo  Gasoline  Manual      Used   6900  160.0  2011\n3    96200     Renault  Megane  Gasoline  Manual      Used   6950  110.0  2011\n4   156000     Peugeot     308  Gasoline  Manual      Used   6950  156.0  2011",
      "text/html": "<div>\n<style scoped>\n    .dataframe tbody tr th:only-of-type {\n        vertical-align: middle;\n    }\n\n    .dataframe tbody tr th {\n        vertical-align: top;\n    }\n\n    .dataframe thead th {\n        text-align: right;\n    }\n</style>\n<table border=\"1\" class=\"dataframe\">\n  <thead>\n    <tr style=\"text-align: right;\">\n      <th></th>\n      <th>mileage</th>\n      <th>make</th>\n      <th>model</th>\n      <th>fuel</th>\n      <th>gear</th>\n      <th>offerType</th>\n      <th>price</th>\n      <th>hp</th>\n      <th>year</th>\n    </tr>\n  </thead>\n  <tbody>\n    <tr>\n      <th>0</th>\n      <td>235000</td>\n      <td>BMW</td>\n      <td>316</td>\n      <td>Diesel</td>\n      <td>Manual</td>\n      <td>Used</td>\n      <td>6800</td>\n      <td>116.0</td>\n      <td>2011</td>\n    </tr>\n    <tr>\n      <th>1</th>\n      <td>92800</td>\n      <td>Volkswagen</td>\n      <td>Golf</td>\n      <td>Gasoline</td>\n      <td>Manual</td>\n      <td>Used</td>\n      <td>6877</td>\n      <td>122.0</td>\n      <td>2011</td>\n    </tr>\n    <tr>\n      <th>2</th>\n      <td>149300</td>\n      <td>SEAT</td>\n      <td>Exeo</td>\n      <td>Gasoline</td>\n      <td>Manual</td>\n      <td>Used</td>\n      <td>6900</td>\n      <td>160.0</td>\n      <td>2011</td>\n    </tr>\n    <tr>\n      <th>3</th>\n      <td>96200</td>\n      <td>Renault</td>\n      <td>Megane</td>\n      <td>Gasoline</td>\n      <td>Manual</td>\n      <td>Used</td>\n      <td>6950</td>\n      <td>110.0</td>\n      <td>2011</td>\n    </tr>\n    <tr>\n      <th>4</th>\n      <td>156000</td>\n      <td>Peugeot</td>\n      <td>308</td>\n      <td>Gasoline</td>\n      <td>Manual</td>\n      <td>Used</td>\n      <td>6950</td>\n      <td>156.0</td>\n      <td>2011</td>\n    </tr>\n  </tbody>\n</table>\n</div>"
     },
     "execution_count": 1,
     "metadata": {},
     "output_type": "execute_result"
    }
   ],
   "source": [
    "import pandas as pd\n",
    "import seaborn as sns\n",
    "import matplotlib.pyplot as plt\n",
    "\n",
    "df = pd.read_csv('autoscout24-germany-dataset.csv')\n",
    "df.head()"
   ]
  },
  {
   "cell_type": "code",
   "execution_count": null,
   "outputs": [],
   "source": [
    "df.shape"
   ],
   "metadata": {
    "collapsed": false
   }
  },
  {
   "cell_type": "code",
   "execution_count": null,
   "outputs": [],
   "source": [
    "df.dtypes"
   ],
   "metadata": {
    "collapsed": false
   }
  },
  {
   "cell_type": "code",
   "execution_count": null,
   "outputs": [],
   "source": [
    "df.describe()"
   ],
   "metadata": {
    "collapsed": false
   }
  },
  {
   "cell_type": "markdown",
   "source": [
    "#### Добавим к датасету новый аттрибут - возраст автомобиля [car_age]."
   ],
   "metadata": {
    "collapsed": false
   }
  },
  {
   "cell_type": "code",
   "execution_count": 2,
   "outputs": [
    {
     "data": {
      "text/plain": "   mileage        make   model      fuel    gear offerType  price     hp  \\\n0   235000         BMW     316    Diesel  Manual      Used   6800  116.0   \n1    92800  Volkswagen    Golf  Gasoline  Manual      Used   6877  122.0   \n2   149300        SEAT    Exeo  Gasoline  Manual      Used   6900  160.0   \n3    96200     Renault  Megane  Gasoline  Manual      Used   6950  110.0   \n4   156000     Peugeot     308  Gasoline  Manual      Used   6950  156.0   \n\n   year  auto_age  \n0  2011        12  \n1  2011        12  \n2  2011        12  \n3  2011        12  \n4  2011        12  ",
      "text/html": "<div>\n<style scoped>\n    .dataframe tbody tr th:only-of-type {\n        vertical-align: middle;\n    }\n\n    .dataframe tbody tr th {\n        vertical-align: top;\n    }\n\n    .dataframe thead th {\n        text-align: right;\n    }\n</style>\n<table border=\"1\" class=\"dataframe\">\n  <thead>\n    <tr style=\"text-align: right;\">\n      <th></th>\n      <th>mileage</th>\n      <th>make</th>\n      <th>model</th>\n      <th>fuel</th>\n      <th>gear</th>\n      <th>offerType</th>\n      <th>price</th>\n      <th>hp</th>\n      <th>year</th>\n      <th>auto_age</th>\n    </tr>\n  </thead>\n  <tbody>\n    <tr>\n      <th>0</th>\n      <td>235000</td>\n      <td>BMW</td>\n      <td>316</td>\n      <td>Diesel</td>\n      <td>Manual</td>\n      <td>Used</td>\n      <td>6800</td>\n      <td>116.0</td>\n      <td>2011</td>\n      <td>12</td>\n    </tr>\n    <tr>\n      <th>1</th>\n      <td>92800</td>\n      <td>Volkswagen</td>\n      <td>Golf</td>\n      <td>Gasoline</td>\n      <td>Manual</td>\n      <td>Used</td>\n      <td>6877</td>\n      <td>122.0</td>\n      <td>2011</td>\n      <td>12</td>\n    </tr>\n    <tr>\n      <th>2</th>\n      <td>149300</td>\n      <td>SEAT</td>\n      <td>Exeo</td>\n      <td>Gasoline</td>\n      <td>Manual</td>\n      <td>Used</td>\n      <td>6900</td>\n      <td>160.0</td>\n      <td>2011</td>\n      <td>12</td>\n    </tr>\n    <tr>\n      <th>3</th>\n      <td>96200</td>\n      <td>Renault</td>\n      <td>Megane</td>\n      <td>Gasoline</td>\n      <td>Manual</td>\n      <td>Used</td>\n      <td>6950</td>\n      <td>110.0</td>\n      <td>2011</td>\n      <td>12</td>\n    </tr>\n    <tr>\n      <th>4</th>\n      <td>156000</td>\n      <td>Peugeot</td>\n      <td>308</td>\n      <td>Gasoline</td>\n      <td>Manual</td>\n      <td>Used</td>\n      <td>6950</td>\n      <td>156.0</td>\n      <td>2011</td>\n      <td>12</td>\n    </tr>\n  </tbody>\n</table>\n</div>"
     },
     "execution_count": 2,
     "metadata": {},
     "output_type": "execute_result"
    }
   ],
   "source": [
    "from datetime import date\n",
    "\n",
    "current_year = date.today().year\n",
    "\n",
    "df['car_age'] = df.apply(lambda row: current_year - row['year'], axis=1)\n",
    "df.head()"
   ],
   "metadata": {
    "collapsed": false
   }
  },
  {
   "cell_type": "markdown",
   "source": [
    "### Очищаем выборку данных, убирая пропущенные значения и выбросы."
   ],
   "metadata": {
    "collapsed": false
   }
  },
  {
   "cell_type": "markdown",
   "source": [
    "#### Поиск и удаление пропущенных значений\n",
    "\n",
    "Столбец [model] содержит 143 пропущенных значения, то в зависимости от поставленной задачи мы можем удалить эти строки.\n",
    "Та же самая ситуация касается типа коробки передач [gear].\n",
    "Также 29 пропущенных значений было найдено в аттрибуте hp. В данном случае замена пропущенных значений средним, медианой или модой — грубый способ работы с ними. Такая аппроксимация, возможно, не приемлема и не даст удовлетворительные результаты. Но в связи с тем, что пропущенных данных достаточно мало относительно всех, то можно заменить, например, медианой.\n",
    "\n",
    "После того, как мы убрали пропущенные значения в столбцах [gear] и [model], в столбце hp осталось 24 пропущенных значения.\n",
    "\n",
    "---\n",
    "Обоснование и поиск пропущенных значений было взято из лабораторной работы 1.\n"
   ],
   "metadata": {
    "collapsed": false
   }
  },
  {
   "cell_type": "code",
   "execution_count": 4,
   "outputs": [
    {
     "data": {
      "text/plain": "mileage      0\nmake         0\nmodel        0\nfuel         0\ngear         0\nofferType    0\nprice        0\nhp           0\nyear         0\nauto_age     0\ndtype: int64"
     },
     "execution_count": 4,
     "metadata": {},
     "output_type": "execute_result"
    }
   ],
   "source": [
    "df.dropna(subset=['gear', 'model'], inplace=True)\n",
    "df['hp'] = df['hp'].fillna(df['hp'].mode()[0])\n",
    "df.isna().sum()"
   ],
   "metadata": {
    "collapsed": false
   }
  },
  {
   "cell_type": "markdown",
   "source": [
    "#### Подсчитаем количество дубликатов и удалим их"
   ],
   "metadata": {
    "collapsed": false
   }
  },
  {
   "cell_type": "code",
   "execution_count": 5,
   "outputs": [
    {
     "name": "stdout",
     "output_type": "stream",
     "text": [
      "Дубликатов не найдено\n"
     ]
    }
   ],
   "source": [
    "quantity_rows_before_deletion = df.shape[0]\n",
    "df.drop_duplicates()\n",
    "quantity_rows_after_deletion = df.shape[0]\n",
    "if quantity_rows_before_deletion == quantity_rows_after_deletion:\n",
    "    print(\"Дубликатов не найдено\")\n",
    "else:\n",
    "    print(f\"Количество удаленных дубликатов {quantity_rows_after_deletion - quantity_rows_before_deletion}\")"
   ],
   "metadata": {
    "collapsed": false
   }
  },
  {
   "cell_type": "markdown",
   "source": [
    "#### Поиск и удаление выбросов\n",
    "Не существует строгого и однозначного правила насчет того, следует ли удалять выбросы из набора данных перед проведением статистического анализа. Довольно часто переменные значения, вызванные экспериментальной ошибкой или ошибкой измерения удаляются или заменяются на новые значения. Некоторые статистические тесты требуют их отсутствия, чтобы сделать обоснованные выводы, но удаление выбросов рекомендуется не во всех случаях и должно выполняться с осторожностью.\n",
    "\n",
    "Для того, чтобы определить, является ли точка выбросом необходим контекст. Например, в Петербурге +15 градусов Цельсия. Зимой такая температура является выбросом, а летом нет."
   ],
   "metadata": {
    "collapsed": false
   }
  },
  {
   "cell_type": "code",
   "execution_count": 6,
   "outputs": [
    {
     "name": "stdout",
     "output_type": "stream",
     "text": [
      "Размер df_numeric = (46095, 4)\n"
     ]
    },
    {
     "data": {
      "text/plain": "   mileage  price     hp  auto_age\n0   235000   6800  116.0        12\n1    92800   6877  122.0        12\n2   149300   6900  160.0        12\n3    96200   6950  110.0        12\n4   156000   6950  156.0        12",
      "text/html": "<div>\n<style scoped>\n    .dataframe tbody tr th:only-of-type {\n        vertical-align: middle;\n    }\n\n    .dataframe tbody tr th {\n        vertical-align: top;\n    }\n\n    .dataframe thead th {\n        text-align: right;\n    }\n</style>\n<table border=\"1\" class=\"dataframe\">\n  <thead>\n    <tr style=\"text-align: right;\">\n      <th></th>\n      <th>mileage</th>\n      <th>price</th>\n      <th>hp</th>\n      <th>auto_age</th>\n    </tr>\n  </thead>\n  <tbody>\n    <tr>\n      <th>0</th>\n      <td>235000</td>\n      <td>6800</td>\n      <td>116.0</td>\n      <td>12</td>\n    </tr>\n    <tr>\n      <th>1</th>\n      <td>92800</td>\n      <td>6877</td>\n      <td>122.0</td>\n      <td>12</td>\n    </tr>\n    <tr>\n      <th>2</th>\n      <td>149300</td>\n      <td>6900</td>\n      <td>160.0</td>\n      <td>12</td>\n    </tr>\n    <tr>\n      <th>3</th>\n      <td>96200</td>\n      <td>6950</td>\n      <td>110.0</td>\n      <td>12</td>\n    </tr>\n    <tr>\n      <th>4</th>\n      <td>156000</td>\n      <td>6950</td>\n      <td>156.0</td>\n      <td>12</td>\n    </tr>\n  </tbody>\n</table>\n</div>"
     },
     "execution_count": 6,
     "metadata": {},
     "output_type": "execute_result"
    }
   ],
   "source": [
    "# Избавимся от столбцов, содержащих НЕ числа\n",
    "# axis=1 - по всем строкам\n",
    "\n",
    "numeric_attrs = ['mileage','price','hp','car_age']\n",
    "df_numeric = df.filter(numeric_attrs, axis=1)\n",
    "print(f\"Размер df_numeric = {df_numeric.shape}\")\n",
    "df_numeric.head()\n"
   ],
   "metadata": {
    "collapsed": false
   }
  },
  {
   "cell_type": "code",
   "execution_count": 7,
   "outputs": [
    {
     "data": {
      "text/plain": "Text(0.5, 0, 'Attributes')"
     },
     "execution_count": 7,
     "metadata": {},
     "output_type": "execute_result"
    },
    {
     "data": {
      "text/plain": "<Figure size 1000x800 with 1 Axes>",
      "image/png": "[encoded data removed]"
     },
     "metadata": {},
     "output_type": "display_data"
    }
   ],
   "source": [
    "plt.rcParams['figure.figsize'] = [10,8]\n",
    "sns.boxplot(data = df_numeric[numeric_attrs], orient=\"v\", palette=\"Set2\" ,whis=1.5,saturation=1, width=0.7)\n",
    "plt.title(\"Outliers Variable Distribution\", fontsize = 14, fontweight = 'bold')\n",
    "plt.ylabel(\"Range\", fontweight = 'bold')\n",
    "plt.xlabel(\"Attributes\", fontweight = 'bold')"
   ],
   "metadata": {
    "collapsed": false
   }
  },
  {
   "cell_type": "code",
   "execution_count": 15,
   "outputs": [
    {
     "name": "stdout",
     "output_type": "stream",
     "text": [
      "Размер df_numeric после удаления выбросов= (45673, 4)\n"
     ]
    }
   ],
   "source": [
    "# Удаление выбросов для [mileage]\n",
    "Q1 = df_numeric.mileage.quantile(0.05)\n",
    "Q3 = df_numeric.mileage.quantile(0.95)\n",
    "IQR = Q3 - Q1\n",
    "df_numeric = df_numeric[(df_numeric.mileage >= Q1 - 1.5 * IQR) & (df_numeric.mileage <= Q3 + 1.5 * IQR)]\n",
    "\n",
    "# Удаление выбросов для [price]\n",
    "Q1 = df_numeric.price.quantile(0.05)\n",
    "Q3 = df_numeric.price.quantile(0.95)\n",
    "IQR = Q3 - Q1\n",
    "df_numeric = df_numeric[(df_numeric.price >= Q1 - 1.5 * IQR) & (df_numeric.price <= Q3 + 1.5 * IQR)]\n",
    "\n",
    "# Удаление выбросов для [hp]\n",
    "Q1 = df_numeric.hp.quantile(0.05)\n",
    "Q3 = df_numeric.hp.quantile(0.95)\n",
    "IQR = Q3 - Q1\n",
    "df_numeric = df_numeric[(df_numeric.hp >= Q1 - 1.5 * IQR) & (df_numeric.hp <= Q3 + 1.5 * IQR)]\n",
    "\n",
    "# Удаление выбросов для [car_age]\n",
    "Q1 = df_numeric.car_age.quantile(0.05)\n",
    "Q3 = df_numeric.car_age.quantile(0.95)\n",
    "IQR = Q3 - Q1\n",
    "df_numeric = df_numeric[(df_numeric.car_age >= Q1 - 1.5 * IQR) & (df_numeric.car_age <= Q3 + 1.5 * IQR)]\n",
    "\n",
    "print(f\"Размер df_numeric после удаления выбросов= {df_numeric.shape}\")"
   ],
   "metadata": {
    "collapsed": false
   }
  },
  {
   "cell_type": "markdown",
   "source": [
    "### Построение графиков зависимости одной переменной от другой"
   ],
   "metadata": {
    "collapsed": false
   }
  },
  {
   "cell_type": "code",
   "execution_count": null,
   "outputs": [],
   "source": [
    "import seaborn as sns\n",
    "import matplotlib.pyplot as plt"
   ],
   "metadata": {
    "collapsed": false
   }
  },
  {
   "cell_type": "code",
   "execution_count": null,
   "outputs": [],
   "source": [
    "\"\"\"\n",
    "    аргумент [hue] подсвечивает указанную категорию другим цветом.\n",
    "\"\"\"\n",
    "sns.pairplot(df,hue='gear')"
   ],
   "metadata": {
    "collapsed": false
   }
  },
  {
   "cell_type": "markdown",
   "source": [
    "#### Диаграмма рассеяния\n",
    "[Статья про построение диаграмм на хабре](https://habr.com/ru/companies/skillfactory/articles/664756/)\n",
    "Диаграмма рассеяния показывает взаимосвязь между двумя числовыми признаками с помощью точек, показывающих движение этих переменных вместе."
   ],
   "metadata": {
    "collapsed": false
   }
  },
  {
   "cell_type": "code",
   "execution_count": null,
   "outputs": [],
   "source": [
    "sns.set(font_scale=1.3)\n",
    "sns.scatterplot(\n",
    "    x='hp',\n",
    "    y='mileage',\n",
    "    data=df,\n",
    "    hue='gear')\n",
    "plt.xlabel(\n",
    "    'horsepower')\n",
    "plt.ylabel(\n",
    "    'mileage')"
   ],
   "metadata": {
    "collapsed": false,
    "pycharm": {
     "is_executing": true
    }
   }
  },
  {
   "cell_type": "code",
   "execution_count": null,
   "outputs": [],
   "source": [
    "sns.set(font_scale=1.3)\n",
    "sns.scatterplot(\n",
    "    x='car_age',\n",
    "    y='mileage',\n",
    "    data=df,\n",
    "    hue='gear')\n",
    "plt.xlabel(\n",
    "    'car_age')\n",
    "plt.ylabel(\n",
    "    'mileage')"
   ],
   "metadata": {
    "collapsed": false,
    "pycharm": {
     "is_executing": true
    }
   }
  },
  {
   "cell_type": "markdown",
   "source": [
    "### Кластеризация данных\n",
    "[Кластеризация данных](https://logic.pdmi.ras.ru/~yura/internet/02ia-seminar-note.pdf)\n",
    "Кластеризация - это разбиение элементов некоторого множества на группы в зависимости от их схожести.\n",
    "Кластеризация данных включает в себя следующие этапы:\n",
    "1. Выделение характеристик.\n",
    "Для начала необходимо выбрать свойства, которые характеризуют наши объекты. Ими могут быть количественные характеристики (координаты, интервалы.), качественные характеристики (цвет, статус, воинское звание...).\n",
    "2. Определение метрики\n",
    "Следующим этапом кластеризации является выбор метрики, по которой мы будем определять длизость объектов.\n",
    "Метрика выбирается в зависимости от:\n",
    "    1. пространства, в котором расположены объекты\n",
    "    2. неявных характеристик кластеров\n",
    "3. Разбиение объектов на группы\n",
    "4. Представление результатов\n"
   ],
   "metadata": {
    "collapsed": false
   }
  },
  {
   "cell_type": "markdown",
   "source": [
    "### Алгоритм kMeans\n",
    "Статьи:\n",
    "[Алгоритм kMeans](https://logic.pdmi.ras.ru/~yura/internet/02ia-seminar-note.pdf)\n",
    "[Алгоритм kMeans](https://logic.pdmi.ras.ru/~yura/internet/02ia-seminar-note.pdf)\n",
    "[Кластеризация: алгоритмы k-means и c-means](https://habr.com/ru/articles/67078/)\n",
    "[Алгоритм k средних (k-means)](https://algowiki-project.org/ru/Алгоритм_k_средних_(k-means))\n",
    "\n",
    "Наиболее простой, но в то же время достаточно неточный метод кластеризации в классической реализации. Он разбивает множество элементов векторного пространства на заранее известное число кластеров k. Действие алгоритма таково, что он стремится минимизировать среднеквадратичное отклонение на точках каждого кластера. Основная идея заключается в том, что на каждой итерации перевычисляется центр масс для каждого кластера, полученного на предыдущем шаге, затем векторы разбиваются на кластеры вновь в соответствии с тем, какой из новых центров оказался ближе по выбранной метрике. Алгоритм завершается, когда на какой-то итерации не происходит изменения кластеров.\n",
    "\n",
    "Существует ряд проблем при использовании kmeans, о которых описано в источниках, приведенных выше."
   ],
   "metadata": {
    "collapsed": false
   }
  },
  {
   "cell_type": "markdown",
   "source": [
    "#### Применение алгоритма на основе [notebook'a](https://www.kaggl.com/code/karthickaravindan/k-means-clustering-project/notebook)\n",
    "Во время реализации алгоритма будет использована библиотека scikit-learn.\n",
    "scikit-learn - библиотека, предназначенная для машинного обучения, написанная на языке программирования Python и распространяемая в виде свободного программного обеспечения.\n"
   ],
   "metadata": {
    "collapsed": false
   }
  },
  {
   "cell_type": "markdown",
   "source": [
    "##### Нормализация данных\n",
    "Нормализация — это метод, который часто применяется как часть подготовки данных для машинного обучения. Цель нормализации — изменить значения числовых столбцов в наборе данных для использования общей шкалы без искажения различий в диапазонах значений или потери информации."
   ],
   "metadata": {
    "collapsed": false
   }
  },
  {
   "cell_type": "code",
   "execution_count": 8,
   "outputs": [],
   "source": [
    "from sklearn import preprocessing"
   ],
   "metadata": {
    "collapsed": false
   }
  },
  {
   "cell_type": "code",
   "execution_count": 9,
   "outputs": [],
   "source": [
    "minmax_processed = preprocessing.MinMaxScaler().fit_transform(df_numeric)"
   ],
   "metadata": {
    "collapsed": false
   }
  },
  {
   "cell_type": "code",
   "execution_count": 10,
   "outputs": [
    {
     "data": {
      "text/plain": "   mileage     price        hp  auto_age\n0  0.21150  0.004755  0.135453       1.0\n1  0.08352  0.004819  0.142521       1.0\n2  0.13437  0.004838  0.187279       1.0\n3  0.08658  0.004880  0.128386       1.0\n4  0.14040  0.004880  0.182568       1.0",
      "text/html": "<div>\n<style scoped>\n    .dataframe tbody tr th:only-of-type {\n        vertical-align: middle;\n    }\n\n    .dataframe tbody tr th {\n        vertical-align: top;\n    }\n\n    .dataframe thead th {\n        text-align: right;\n    }\n</style>\n<table border=\"1\" class=\"dataframe\">\n  <thead>\n    <tr style=\"text-align: right;\">\n      <th></th>\n      <th>mileage</th>\n      <th>price</th>\n      <th>hp</th>\n      <th>auto_age</th>\n    </tr>\n  </thead>\n  <tbody>\n    <tr>\n      <th>0</th>\n      <td>0.21150</td>\n      <td>0.004755</td>\n      <td>0.135453</td>\n      <td>1.0</td>\n    </tr>\n    <tr>\n      <th>1</th>\n      <td>0.08352</td>\n      <td>0.004819</td>\n      <td>0.142521</td>\n      <td>1.0</td>\n    </tr>\n    <tr>\n      <th>2</th>\n      <td>0.13437</td>\n      <td>0.004838</td>\n      <td>0.187279</td>\n      <td>1.0</td>\n    </tr>\n    <tr>\n      <th>3</th>\n      <td>0.08658</td>\n      <td>0.004880</td>\n      <td>0.128386</td>\n      <td>1.0</td>\n    </tr>\n    <tr>\n      <th>4</th>\n      <td>0.14040</td>\n      <td>0.004880</td>\n      <td>0.182568</td>\n      <td>1.0</td>\n    </tr>\n  </tbody>\n</table>\n</div>"
     },
     "execution_count": 10,
     "metadata": {},
     "output_type": "execute_result"
    }
   ],
   "source": [
    "df_numeric_scaled = pd.DataFrame(minmax_processed, index=df_numeric.index, columns=numeric_attrs)\n",
    "df_numeric_scaled.head()"
   ],
   "metadata": {
    "collapsed": false
   }
  },
  {
   "cell_type": "markdown",
   "source": [
    "##### Применение kMeans\n",
    "Существует несколько методов определения количества кластеров. Воспользуемся Elbow method."
   ],
   "metadata": {
    "collapsed": false
   }
  },
  {
   "cell_type": "code",
   "execution_count": 23,
   "outputs": [],
   "source": [
    "from sklearn.cluster import KMeans"
   ],
   "metadata": {
    "collapsed": false
   }
  },
  {
   "cell_type": "code",
   "execution_count": null,
   "outputs": [],
   "source": [
    "Nc = range(1, 20)\n",
    "kmeans = [KMeans(n_clusters=i) for i in Nc]\n",
    "score = [kmeans[i].fit(df_numeric_scaled).score(df_numeric_scaled) for i in range(len(kmeans))]"
   ],
   "metadata": {
    "collapsed": false,
    "pycharm": {
     "is_executing": true
    }
   }
  },
  {
   "cell_type": "code",
   "execution_count": null,
   "outputs": [],
   "source": [
    "plt.plot(Nc,score)\n",
    "plt.xlabel('Number of Clusters')\n",
    "plt.ylabel('Score')\n",
    "plt.title('Elbow Curve')\n",
    "plt.show()"
   ],
   "metadata": {
    "collapsed": false,
    "pycharm": {
     "is_executing": true
    }
   }
  },
  {
   "cell_type": "code",
   "execution_count": null,
   "outputs": [],
   "source": [
    "kmeans = KMeans(n_clusters=15)\n",
    "kmeans.fit(df_numeric_scaled)"
   ],
   "metadata": {
    "collapsed": false
   }
  },
  {
   "cell_type": "code",
   "execution_count": null,
   "outputs": [],
   "source": [
    "import numpy as np\n",
    "import seaborn as sns\n",
    "\n",
    "print(f\"kmeans.labels_ = {kmeans.labels_}\")\n",
    "print(f\"kmeans.cluster_centers_ = {kmeans.cluster_centers_}\")\n",
    "print(f\"kmeans = {kmeans}\")"
   ],
   "metadata": {
    "collapsed": false
   }
  },
  {
   "cell_type": "code",
   "execution_count": null,
   "outputs": [],
   "source": [
    "df_numeric['cluster'] = kmeans.labels_\n",
    "df_numeric.head()"
   ],
   "metadata": {
    "collapsed": false
   }
  },
  {
   "cell_type": "code",
   "execution_count": null,
   "outputs": [],
   "source": [
    "import numpy as np\n",
    "\n",
    "plt.figure(figsize=(12,7))\n",
    "axis = sns.barplot(x=np.arange(0,15,1),y=df_numeric.groupby(['cluster']).count()['price'].values)\n",
    "x=axis.set_xlabel(\"Cluster Number\")\n",
    "y=axis.set_ylabel(\"Cars\")"
   ],
   "metadata": {
    "collapsed": false
   }
  },
  {
   "cell_type": "code",
   "execution_count": null,
   "outputs": [],
   "source": [
    "import matplotlib.pyplot as plt\n",
    "import matplotlib.colors as colors\n",
    "\n",
    "labels = kmeans.labels_\n",
    "\n",
    "LABEL_COLOR_MAP = {0 :'#1f77b4',\n",
    "                   1 :'#ff7f0e',\n",
    "                   2 :'#2ca02c',\n",
    "                   3 :'#d62728',\n",
    "                   4 :'#9467bd',\n",
    "                   5 :'#8c564b',\n",
    "                   6 :'#e377c2',\n",
    "                   7 :'#7f7f7f',\n",
    "                   8 :'#bcbd22',\n",
    "                   9 :'#17becf',\n",
    "                   10 :'#000000',\n",
    "                   11 :'#83d6a7',\n",
    "                   12 :'#070094',\n",
    "                   13 :'#940065',\n",
    "                   14 :'#ffee00'}\n",
    "\n",
    "label_color = [LABEL_COLOR_MAP[l] for l in labels]\n",
    "\n",
    "plt.scatter(df_numeric.iloc[:,0], df_numeric.iloc[:,1], c=label_color)\n",
    "plt.show()"
   ],
   "metadata": {
    "collapsed": false
   }
  }
 ],
 "metadata": {
  "kernelspec": {
   "display_name": "Python 3",
   "language": "python",
   "name": "python3"
  },
  "language_info": {
   "codemirror_mode": {
    "name": "ipython",
    "version": 2
   },
   "file_extension": ".py",
   "mimetype": "text/x-python",
   "name": "python",
   "nbconvert_exporter": "python",
   "pygments_lexer": "ipython2",
   "version": "2.7.6"
  }
 },
 "nbformat": 4,
 "nbformat_minor": 0
}
